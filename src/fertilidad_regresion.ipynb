{
 "cells": [
  {
   "cell_type": "markdown",
   "id": "a0205176",
   "metadata": {},
   "source": [
    "## Regresión lineal\n",
    "\n",
    "<p align='justify'> \n",
    "100 voluntarios proporcionan una muestra de semen analizada de acuerdo con los criterios de la OMS 2010. La concentración de espermatozoides está relacionada con datos socio demográficos, factores ambientales, estado de salud y hábitos de vida. Proporcionar información relevante sobre el conjunto de datos.\n",
    "</p>"
   ]
  },
  {
   "cell_type": "markdown",
   "id": "efe25166",
   "metadata": {},
   "source": [
    "### Comprensión de los datos\n",
    "\n",
    "- **Temporada en la que se realizó el análisis.** 1) invierno, 2) primavera, 3) verano, 4) otoño. (-1, -0.33, 0.33, 1)\n",
    "\n",
    "- **Edad en el momento del análisis.** 18-36 (0, 1)\n",
    "\n",
    "- **Enfermedades infantiles.** (es decir, varicela, sarampión, paperas, poliomielitis) 1) sí, 2) no. (0, 1)\n",
    "\n",
    "- **Accidente o trauma grave.** 1) sí, 2) no. (0, 1)\n",
    "\n",
    "- **Intervención quirúrgica.** 1) sí, 2) no. (0, 1)\n",
    "\n",
    "- **Fiebres altas en el último año.** 1) hace menos de tres meses, 2) hace más de tres meses, 3) no. (-1, 0, 1)\n",
    "\n",
    "- **Frecuencia de consumo de alcohol.** 1) varias veces al día, 2) todos los días, 3) varias veces a la semana, 4) una vez a la semana, 5) casi nunca o nunca (0, 1)\n",
    "\n",
    "- **Hábito de fumar.** 1) nunca, 2) ocasional 3) diario. (-1, 0, 1)\n",
    "\n",
    "- **Número de horas de estar sentado por día ene-16** (0, 1)\n",
    "\n",
    "- **Salida:** Diagnóstico normal (N), alterado (O)"
   ]
  },
  {
   "cell_type": "code",
   "execution_count": 5,
   "id": "30fc132e",
   "metadata": {},
   "outputs": [
    {
     "name": "stdout",
     "output_type": "stream",
     "text": [
      "(100, 10)\n",
      "   Temporada  Edad  EnfermedadesI  Accidente_o  Intervencion_quirurgica  \\\n",
      "0      -0.33  0.69              0            1                        1   \n",
      "1      -0.33  0.94              1            0                        1   \n",
      "2      -0.33  0.50              1            0                        0   \n",
      "3      -0.33  0.75              0            1                        1   \n",
      "4      -0.33  0.67              1            1                        0   \n",
      "5      -0.33  0.67              1            0                        1   \n",
      "6      -0.33  0.67              0            0                        0   \n",
      "7      -0.33  1.00              1            1                        1   \n",
      "8       1.00  0.64              0            0                        1   \n",
      "9       1.00  0.61              1            0                        0   \n",
      "\n",
      "   FiebresAUA  FrecuenciaCA  Habito_fumar  Horas_sentado_dia Salida  \n",
      "0           0           0.8             0               0.88      N  \n",
      "1           0           0.8             1               0.31      O  \n",
      "2           0           1.0            -1               0.50      N  \n",
      "3           0           1.0            -1               0.38      N  \n",
      "4           0           0.8            -1               0.50      O  \n",
      "5           0           0.8             0               0.50      N  \n",
      "6          -1           0.8            -1               0.44      N  \n",
      "7           0           0.6            -1               0.38      N  \n",
      "8           0           0.8            -1               0.25      N  \n",
      "9           0           1.0            -1               0.25      N  \n"
     ]
    }
   ],
   "source": [
    "import pandas as pd\n",
    "import numpy as np\n",
    "from matplotlib import pyplot as plt\n",
    "from IPython.display import display, HTML\n",
    "\n",
    "# Análisis preliminar de datos\n",
    "fertilidad = pd.read_csv('sample_data/fertility_diagnosis.csv')\n",
    "\n",
    "print(fertilidad.shape)\n",
    "print (fertilidad.head(10))"
   ]
  },
  {
   "cell_type": "code",
   "execution_count": 6,
   "id": "b7598ffa",
   "metadata": {},
   "outputs": [
    {
     "data": {
      "text/plain": [
       "<AxesSubplot:>"
      ]
     },
     "execution_count": 6,
     "metadata": {},
     "output_type": "execute_result"
    },
    {
     "data": {
      "image/png": "[encoded data removed]",
      "text/plain": [
       "<Figure size 1080x576 with 1 Axes>"
      ]
     },
     "metadata": {
      "needs_background": "light"
     },
     "output_type": "display_data"
    }
   ],
   "source": [
    "fertilidad.plot.box(figsize = (15, 8))"
   ]
  },
  {
   "cell_type": "markdown",
   "id": "09a44dab",
   "metadata": {},
   "source": [
    "### Preparación de los datos\n",
    "\n"
   ]
  },
  {
   "cell_type": "code",
   "execution_count": null,
   "id": "0704b96a",
   "metadata": {},
   "outputs": [],
   "source": []
  }
 ],
 "metadata": {
  "kernelspec": {
   "display_name": "Python 3 (ipykernel)",
   "language": "python",
   "name": "python3"
  },
  "language_info": {
   "codemirror_mode": {
    "name": "ipython",
    "version": 3
   },
   "file_extension": ".py",
   "mimetype": "text/x-python",
   "name": "python",
   "nbconvert_exporter": "python",
   "pygments_lexer": "ipython3",
   "version": "3.9.12"
  }
 },
 "nbformat": 4,
 "nbformat_minor": 5
}
